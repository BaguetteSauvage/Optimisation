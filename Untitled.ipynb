{
 "cells": [
  {
   "cell_type": "markdown",
   "metadata": {},
   "source": [
    "Projet Optimisation"
   ]
  },
  {
   "cell_type": "markdown",
   "metadata": {},
   "source": [
    "Tout d'abord voici une liste des modules que nous utiliserons : "
   ]
  },
  {
   "cell_type": "code",
   "execution_count": 11,
   "metadata": {},
   "outputs": [],
   "source": [
    "import pandas as pd\n",
    "import matplotlib.pyplot as plt\n",
    "import numpy as np"
   ]
  },
  {
   "cell_type": "markdown",
   "metadata": {},
   "source": [
    "On suppose donc tout d'abord avoir la donnée des heures de départ et d'arrivée de chaque voiture, leur état de charge à leur arrivée, et leur état de charge demandé à leur départ.\n",
    "On notera ainsi dans la suite : $t _{i}^0$ leur d'arrivée de la voiture i, et $t _{i}^1$ son heure de départ. De la même manière, on notera $R _{i}^0$ et $R _{i}^1$ les états de charges en pourcent de la voiture i au départ et à l'arrivée.\n",
    "On notera de plus   $t_{0} = min_{i}$ $(t _{i}^0)$, $t_{N} = max_{i}$ $(t _{i}^1)$ et T = $t _{N} - t _{0}$,T correspond à la période étudiée.\n",
    "Les voitures seront toutes supposées identiques par soucis de simplicité, cependant il doit être possible de relacher cette hypothèse : nous noterons n le nombre de voiture.\n",
    "Enfin nous noterons U la tension du secteur, supposée fixe."
   ]
  },
  {
   "cell_type": "markdown",
   "metadata": {},
   "source": [
    "Utilisation des données "
   ]
  },
  {
   "cell_type": "code",
   "execution_count": 10,
   "metadata": {},
   "outputs": [
    {
     "data": {
      "text/html": [
       "<div>\n",
       "<style scoped>\n",
       "    .dataframe tbody tr th:only-of-type {\n",
       "        vertical-align: middle;\n",
       "    }\n",
       "\n",
       "    .dataframe tbody tr th {\n",
       "        vertical-align: top;\n",
       "    }\n",
       "\n",
       "    .dataframe thead th {\n",
       "        text-align: right;\n",
       "    }\n",
       "</style>\n",
       "<table border=\"1\" class=\"dataframe\">\n",
       "  <thead>\n",
       "    <tr style=\"text-align: right;\">\n",
       "      <th></th>\n",
       "      <th>temps (s)</th>\n",
       "      <th>intensité traversant la batterie (A)</th>\n",
       "      <th>Etat de charge de la batterie</th>\n",
       "    </tr>\n",
       "  </thead>\n",
       "  <tbody>\n",
       "    <tr>\n",
       "      <th>0</th>\n",
       "      <td>0.000000</td>\n",
       "      <td>0.005755</td>\n",
       "      <td>0.626524</td>\n",
       "    </tr>\n",
       "    <tr>\n",
       "      <th>1</th>\n",
       "      <td>1.005016</td>\n",
       "      <td>0.018529</td>\n",
       "      <td>0.631323</td>\n",
       "    </tr>\n",
       "    <tr>\n",
       "      <th>2</th>\n",
       "      <td>2.008215</td>\n",
       "      <td>-0.022398</td>\n",
       "      <td>0.629266</td>\n",
       "    </tr>\n",
       "    <tr>\n",
       "      <th>3</th>\n",
       "      <td>3.018137</td>\n",
       "      <td>0.008812</td>\n",
       "      <td>0.631987</td>\n",
       "    </tr>\n",
       "    <tr>\n",
       "      <th>4</th>\n",
       "      <td>4.023168</td>\n",
       "      <td>0.003566</td>\n",
       "      <td>0.632518</td>\n",
       "    </tr>\n",
       "  </tbody>\n",
       "</table>\n",
       "</div>"
      ],
      "text/plain": [
       "   temps (s)  intensité traversant la batterie (A)  \\\n",
       "0   0.000000                              0.005755   \n",
       "1   1.005016                              0.018529   \n",
       "2   2.008215                             -0.022398   \n",
       "3   3.018137                              0.008812   \n",
       "4   4.023168                              0.003566   \n",
       "\n",
       "   Etat de charge de la batterie  \n",
       "0                       0.626524  \n",
       "1                       0.631323  \n",
       "2                       0.629266  \n",
       "3                       0.631987  \n",
       "4                       0.632518  "
      ]
     },
     "execution_count": 10,
     "metadata": {},
     "output_type": "execute_result"
    }
   ],
   "source": [
    "data = pd.read_csv(\"donnees.csv\", sep=';')\n",
    "\n",
    "data2 = data.iloc[50 : 70, :]\n",
    "#data2 correspond à une fenêtre beaucoup plus réduite de temps.\n",
    "data.head()"
   ]
  },
  {
   "cell_type": "code",
   "execution_count": 3,
   "metadata": {},
   "outputs": [
    {
     "data": {
      "image/png": "[encoded data removed]",
      "text/plain": [
       "<Figure size 432x288 with 1 Axes>"
      ]
     },
     "metadata": {
      "needs_background": "light"
     },
     "output_type": "display_data"
    }
   ],
   "source": [
    "plt.plot(data['temps (s)'], data['intensité traversant la batterie (A)'])\n",
    "plt.plot(data['temps (s)'], data['Etat de charge de la batterie'])\n",
    "plt.show()"
   ]
  },
  {
   "cell_type": "code",
   "execution_count": 4,
   "metadata": {},
   "outputs": [
    {
     "data": {
      "image/png": "[encoded data removed]",
      "text/plain": [
       "<Figure size 432x288 with 1 Axes>"
      ]
     },
     "metadata": {
      "needs_background": "light"
     },
     "output_type": "display_data"
    }
   ],
   "source": [
    "plt.plot(data2['temps (s)'], data2['intensité traversant la batterie (A)'])\n",
    "plt.plot(data2['temps (s)'], data2['Etat de charge de la batterie'])\n",
    "plt.show()"
   ]
  },
  {
   "cell_type": "markdown",
   "metadata": {},
   "source": [
    "Il est impossible d'établir un lien à partir de ces courbes, il convient d'utiliser plutôt la dérivée de la charge. "
   ]
  },
  {
   "cell_type": "code",
   "execution_count": 5,
   "metadata": {},
   "outputs": [
    {
     "data": {
      "image/png": "[encoded data removed]",
      "text/plain": [
       "<Figure size 432x288 with 1 Axes>"
      ]
     },
     "metadata": {
      "needs_background": "light"
     },
     "output_type": "display_data"
    }
   ],
   "source": [
    "X = []\n",
    "Y = []\n",
    "for i in range (298) : \n",
    "    X.append(data['intensité traversant la batterie (A)'].iloc[i])\n",
    "    a = data['Etat de charge de la batterie'].iloc[i+1]\n",
    "    b = data['Etat de charge de la batterie'].iloc[i]\n",
    "    c = data['temps (s)'].iloc[i+1]\n",
    "    d = data['temps (s)'].iloc[i]\n",
    "    Y.append((a - b)/(c - d))\n",
    "    \n",
    "# Dans y se trouve l'approximation discrète de la dérivée.\n",
    "    \n",
    "plt.scatter(X, Y)\n",
    "plt.show()"
   ]
  },
  {
   "cell_type": "markdown",
   "metadata": {},
   "source": [
    "Encore une fois, les données semblent inutilisables, car complètement bruitées.\n",
    "Pour palier ce problème, on va moyenner à la main les paquets de points."
   ]
  },
  {
   "cell_type": "code",
   "execution_count": 6,
   "metadata": {},
   "outputs": [
    {
     "data": {
      "text/plain": [
       "[<matplotlib.lines.Line2D at 0x2c233995b00>]"
      ]
     },
     "execution_count": 6,
     "metadata": {},
     "output_type": "execute_result"
    },
    {
     "data": {
      "image/png": "[encoded data removed]",
      "text/plain": [
       "<Figure size 432x288 with 1 Axes>"
      ]
     },
     "metadata": {
      "needs_background": "light"
     },
     "output_type": "display_data"
    }
   ],
   "source": [
    "X1 = []\n",
    "X2 = []\n",
    "X3 = []\n",
    "X4 = []\n",
    "X5 = []\n",
    "X6 = []\n",
    "X7 = []\n",
    "\n",
    "Y1 = []\n",
    "Y2 = []\n",
    "Y3 = []\n",
    "Y4 = []\n",
    "Y5 = []\n",
    "Y6 = []\n",
    "Y7 = []\n",
    "\n",
    "for (x, y) in zip(X, Y) :\n",
    "    if x < -3:\n",
    "        Y1.append(y)\n",
    "        X1.append(x)\n",
    "    elif x < -2:\n",
    "        Y2.append(y)\n",
    "        X2.append(x)\n",
    "    elif x < -0.75:\n",
    "        Y3.append(y) \n",
    "        X3.append(x)\n",
    "    elif x < -0.25:\n",
    "        Y4.append(y)   \n",
    "        X4.append(x)\n",
    "    elif x < 0.25:\n",
    "        Y5.append(y)    \n",
    "        X5.append(x)\n",
    "    elif x < 0.75:\n",
    "        Y6.append(y)\n",
    "        X6.append(x)\n",
    "    else :\n",
    "        Y7.append(y)\n",
    "        X7.append(x)\n",
    "    \n",
    "intensités = []\n",
    "moyenne = []\n",
    "\n",
    "for liste in (X1, X2, X3, X4, X5, X6, X7) :\n",
    "    intensités.append(sum(liste)/len(liste))\n",
    "\n",
    "\n",
    "for liste in (Y1, Y2, Y3, Y4, Y5, Y6, Y7) :\n",
    "    moyenne.append(sum(liste)/len(liste))\n",
    "    \n",
    "\n",
    "plt.plot(intensités, moyenne)\n",
    "\n",
    "Xf = [intensités[-1], intensités[0]]\n",
    "Yf = [moyenne[-1], moyenne[0]]\n",
    "plt.plot(Xf, Yf)"
   ]
  },
  {
   "cell_type": "markdown",
   "metadata": {},
   "source": [
    "On remarque que, une fois moyennées, les données semblent suivrent une loi linéaire. On peut interpréter les différents écarts à des erreurs expérimentales.\n",
    "On approximera ainsi directement les données par cette courbe linéaire avec le coefficient directeur suivant :"
   ]
  },
  {
   "cell_type": "code",
   "execution_count": 7,
   "metadata": {},
   "outputs": [],
   "source": [
    "coef = (moyenne[-1] - moyenne[0])/(intensités[-1] - intensités[0])\n"
   ]
  },
  {
   "cell_type": "markdown",
   "metadata": {},
   "source": [
    "Premier modèle "
   ]
  },
  {
   "cell_type": "markdown",
   "metadata": {},
   "source": [
    "\n",
    "On va découper l'intervalle de temps $[t _{0}, t_{f}]$ en N sous-intervalles. On pose donc $t_{j} = t_{0} + j * \\frac{T}{N}$, pour $0 \\leq j \\leq N$ . Les deux notations $t_{N}$ coincident, il n'y a ainsi pas d'ambiguïté\n",
    "On supposera que sur chaque sous-intervalle, la puissance fournie à une voiture sera constante.\n",
    "On notera la fonction du coût de l'électricité c : t $\\in \\mathbb{R}$ $\\longrightarrow$ c(t), définit comme suit :"
   ]
  },
  {
   "cell_type": "code",
   "execution_count": 8,
   "metadata": {},
   "outputs": [
    {
     "data": {
      "image/png": "[encoded data removed]",
      "text/plain": [
       "<Figure size 432x288 with 1 Axes>"
      ]
     },
     "metadata": {
      "needs_background": "light"
     },
     "output_type": "display_data"
    }
   ],
   "source": [
    "cout_creux = 0.1337\n",
    "cout_plein = 0.1781\n",
    "# tarifs de EDF, pour un kWh\n",
    "\n",
    "# On définit les plages d'heures pleines : de 10 h à 14 h 30, et de 20 h 30 à 00 h\n",
    "\n",
    "def c (t) :\n",
    "    t = t%86400 # le coût est invariant par translation d'une journée dans le temps\n",
    "    if (t > 36000 and t < 52200) or (t > 73800) :\n",
    "        return cout_plein\n",
    "    return (cout_creux)\n",
    "\n",
    "# Traçons la fonction coût :\n",
    "\n",
    "Temps = np.linspace(0, 86400, 100)\n",
    "# la fonction n'est pas vraiment vectorisable\n",
    "Coût = []\n",
    "for t in Temps :\n",
    "    Coût.append(c(t))\n",
    "    \n",
    "plt.plot(Temps, Coût)\n",
    "plt.show()\n",
    "\n",
    "# Cette fonction est évidemment modifiable, et n'est qu'une approximation de la réalité."
   ]
  },
  {
   "cell_type": "markdown",
   "metadata": {},
   "source": [
    "Nous pouvons donc désormais définir notre fonction coût. Faisons le tout d'abord pour une voiture :\n",
    "Supposons que à l'instant t, la station fournit à la voiture i une puissance $p_{it}$.\n",
    "\n",
    "Le coût sur la période de la recharge de cette voiture est ainsi :\n",
    "    $\\displaystyle \\int_{t_{0}}^{t_{N}} c(t)*p_{it} \\, \\mathrm{d}t$. En notant $p_{ij}$ la puissance fournie à la voiture i à l'instant $t_{j}$ et $c_{j} = c(t_{j})$, on approximera discrètement cette intégrale par la somme suivante : $\\sum \\limits_{{j=0}}^N (t_{j+1} - t_{j}) * c_{j}*p_{ij}= \\frac{T}{N} * (\\sum \\limits_{{j=0}}^N c_{j}*p_{ij}) $.\n",
    "    \n",
    "Le coût total est donc la double somme suivante :    f : $(p_{ij})_{0 \\leq j \\leq N, 0 \\leq i \\leq n}$ $\\longrightarrow$ $\\frac{T }{N} * (\\sum \\limits_{{i=0}}^n \\sum \\limits_{{j=0}}^N c_{j}*p_{ij})$ "
   ]
  },
  {
   "cell_type": "markdown",
   "metadata": {},
   "source": [
    "Contraintes\n"
   ]
  },
  {
   "cell_type": "markdown",
   "metadata": {},
   "source": [
    "Tout d'abord, le réseau ayant une capacité limité, il existe une puissance P telle que pour tout j avec $0 \\leq j \\leq N$, $\\sum \\limits_{{i=0}}^n p_{ij} \\leq P$.\n",
    "Nous considèrerons de plus uniquement des puissances positives : $0 \\le p_{ij}$\n"
   ]
  },
  {
   "cell_type": "markdown",
   "metadata": {},
   "source": [
    "De plus, les voitures ont elles-mêmes des contraintes. \n",
    "Pour un certaine voiture i : notons $j_{0}$ = max { j, tel que $t_{j} < t _{i}^0$ } et $j_{f}$ = min { j, tel que $t_{j}> t_{i}^1$ }, alors $\\forall j$ tel que j < $j_{0}$+1 ou j > $j_{f}$ - 1 :  $p_{ij}$ = 0. \n",
    "Cela signifie que la voiture peut charger sur l'intervalle maximal  délimité par les $t_{j}$ (c'est à dire ne pouvant inclure au maximale que les heures d'arrivée et de départ). Ceci est vrai pour toutes les voitures.\n"
   ]
  },
  {
   "cell_type": "markdown",
   "metadata": {},
   "source": [
    "Seconde contraintes des voitures : lors de leur départ, la batterie doit être chargé conformément à la demande de l'utilisateur.\n",
    "En prenant en compte la première contrainte sur les voitures, cela signifie que pour une voiture i, $ \\frac{T * coef}{N * U} (\\sum \\limits_{{j=0}}^N p_{ij})$ = $R _{i}^1$ - $R _{i}^0$.\n",
    "\n",
    "En effet :\n",
    "Considérons la voiture i et notons cp la charge en pourcent.\n",
    "\n",
    "$\\frac {d (cp)}{dt}$ = coef * I, nous l'avons vu avec les données. Or P = U * I.\n",
    "Avec une séparation des variables :\n",
    "d(cp) = coef * $\\frac{P}{U}$ * dt. En intégrant entre $t_{j}$ et $t_{j+1}$, puis en sommant pour j allant de 0 à N - 1, on obtient la formule précédente."
   ]
  },
  {
   "cell_type": "code",
   "execution_count": null,
   "metadata": {},
   "outputs": [],
   "source": []
  }
 ],
 "metadata": {
  "kernelspec": {
   "display_name": "Python 3",
   "language": "python",
   "name": "python3"
  },
  "language_info": {
   "codemirror_mode": {
    "name": "ipython",
    "version": 3
   },
   "file_extension": ".py",
   "mimetype": "text/x-python",
   "name": "python",
   "nbconvert_exporter": "python",
   "pygments_lexer": "ipython3",
   "version": "3.7.3"
  }
 },
 "nbformat": 4,
 "nbformat_minor": 2
}
